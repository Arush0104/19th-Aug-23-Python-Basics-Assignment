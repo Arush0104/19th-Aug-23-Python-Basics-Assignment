{
 "cells": [
  {
   "cell_type": "code",
   "execution_count": 1,
   "id": "ad3eaec9-62a8-480a-943b-268a4f87b596",
   "metadata": {},
   "outputs": [
    {
     "name": "stdout",
     "output_type": "stream",
     "text": [
      "x and y after swapping is\n",
      "x = 10\n",
      "y = 5\n"
     ]
    }
   ],
   "source": [
    "#TOPIC: Python Basics Variable\n",
    "#QUESTION 1\n",
    "x = 5\n",
    "y = 10\n",
    "\n",
    "x = x + y\n",
    "y = x - y\n",
    "x = x - y\n",
    "\n",
    "print(\"x and y after swapping is\")\n",
    "print(\"x =\", x)\n",
    "print(\"y =\", y)\n"
   ]
  },
  {
   "cell_type": "code",
   "execution_count": 3,
   "id": "5964ff4b-0a6b-4be9-95bf-2ea52a7cd056",
   "metadata": {},
   "outputs": [
    {
     "name": "stdout",
     "output_type": "stream",
     "text": [
      "Enter the length\n"
     ]
    },
    {
     "name": "stdout",
     "output_type": "stream",
     "text": [
      " 4\n"
     ]
    },
    {
     "name": "stdout",
     "output_type": "stream",
     "text": [
      "Enter the width\n"
     ]
    },
    {
     "name": "stdout",
     "output_type": "stream",
     "text": [
      " 5\n"
     ]
    },
    {
     "name": "stdout",
     "output_type": "stream",
     "text": [
      "The area is: 20.0\n"
     ]
    }
   ],
   "source": [
    "#QUESTION 2\n",
    "print(\"Enter the length\")\n",
    "length=float(input())\n",
    "print(\"Enter the width\")\n",
    "width=float(input())\n",
    "area = length*width\n",
    "print(\"The area is: \" + str(area))"
   ]
  },
  {
   "cell_type": "code",
   "execution_count": 6,
   "id": "92bafc5b-9f5b-473b-aaeb-b8a76c0e36b1",
   "metadata": {},
   "outputs": [
    {
     "name": "stdout",
     "output_type": "stream",
     "text": [
      "Enter the temperature in Celsius\n"
     ]
    },
    {
     "name": "stdout",
     "output_type": "stream",
     "text": [
      " 15\n"
     ]
    },
    {
     "name": "stdout",
     "output_type": "stream",
     "text": [
      "15.0 degrees Celsius is 59.0 in degrees Fahrenheit\n"
     ]
    }
   ],
   "source": [
    "#QUESTION 3\n",
    "print(\"Enter the temperature in Celsius\")\n",
    "tempCels=float(input())\n",
    "tempFahr = (9/5)*(tempCels)+32\n",
    "print(str(tempCels)+\" \"+\"degrees Celsius is\"+\" \"+str(tempFahr)+\" \"+\"in degrees Fahrenheit\")\n"
   ]
  },
  {
   "cell_type": "code",
   "execution_count": 10,
   "id": "0e175fda-03b1-4707-ad3a-7cfdafbe1a13",
   "metadata": {},
   "outputs": [
    {
     "name": "stdout",
     "output_type": "stream",
     "text": [
      "Enter a string\n"
     ]
    },
    {
     "name": "stdout",
     "output_type": "stream",
     "text": [
      " python\n"
     ]
    },
    {
     "data": {
      "text/plain": [
       "6"
      ]
     },
     "execution_count": 10,
     "metadata": {},
     "output_type": "execute_result"
    }
   ],
   "source": [
    "#Topic: String Based Questions\n",
    "#QUESTION 1\n",
    "print(\"Enter a string\")\n",
    "word=input()\n",
    "len(word)\n"
   ]
  },
  {
   "cell_type": "code",
   "execution_count": 3,
   "id": "d71e1386-f7a5-4a69-8acd-732f68c5be01",
   "metadata": {},
   "outputs": [
    {
     "name": "stdout",
     "output_type": "stream",
     "text": [
      "Enter a string\n"
     ]
    },
    {
     "name": "stdout",
     "output_type": "stream",
     "text": [
      " pwskills\n"
     ]
    },
    {
     "name": "stdout",
     "output_type": "stream",
     "text": [
      "The number of vowels is:1\n"
     ]
    }
   ],
   "source": [
    "#QUESTION 2\n",
    "print(\"Enter a string\")\n",
    "word=input()\n",
    "count = 0\n",
    "for i in word:\n",
    "    if i in ['a','e','i','o','u','A','E','I','O','U']:\n",
    "        count+=1\n",
    "print(\"The number of vowels is:\" + str(count))"
   ]
  },
  {
   "cell_type": "code",
   "execution_count": 6,
   "id": "aa6607ea-4007-4c8a-8441-49f93f745607",
   "metadata": {},
   "outputs": [
    {
     "name": "stdout",
     "output_type": "stream",
     "text": [
      "Enter a string\n"
     ]
    },
    {
     "name": "stdout",
     "output_type": "stream",
     "text": [
      " pwskills\n"
     ]
    },
    {
     "name": "stdout",
     "output_type": "stream",
     "text": [
      "The reversed string is: sllikswp\n"
     ]
    }
   ],
   "source": [
    "#QUESTION 3\n",
    "print(\"Enter a string\")\n",
    "word=input()\n",
    "reversedString = word[::-1]\n",
    "print(\"The reversed string is:\"+\" \"+reversedString)"
   ]
  },
  {
   "cell_type": "code",
   "execution_count": 11,
   "id": "e069f32f-0fbf-4e69-bb02-7c0580a6582d",
   "metadata": {},
   "outputs": [
    {
     "name": "stdout",
     "output_type": "stream",
     "text": [
      "Enter a string\n"
     ]
    },
    {
     "name": "stdout",
     "output_type": "stream",
     "text": [
      " python is cool with pwskills\n"
     ]
    },
    {
     "name": "stdout",
     "output_type": "stream",
     "text": [
      "The string without any spaces is pythoniscoolwithpwskills\n"
     ]
    }
   ],
   "source": [
    "#QUESTION 4\n",
    "print(\"Enter a string\")\n",
    "word=input()\n",
    "modWord=word.replace(\" \",\"\")\n",
    "print(\"The string without any spaces is\"+\" \" + modWord)"
   ]
  },
  {
   "cell_type": "code",
   "execution_count": null,
   "id": "84ff604e",
   "metadata": {},
   "outputs": [],
   "source": []
  }
 ],
 "metadata": {
  "kernelspec": {
   "display_name": "Python 3 (ipykernel)",
   "language": "python",
   "name": "python3"
  },
  "language_info": {
   "codemirror_mode": {
    "name": "ipython",
    "version": 3
   },
   "file_extension": ".py",
   "mimetype": "text/x-python",
   "name": "python",
   "nbconvert_exporter": "python",
   "pygments_lexer": "ipython3",
   "version": "3.11.3"
  }
 },
 "nbformat": 4,
 "nbformat_minor": 5
}
